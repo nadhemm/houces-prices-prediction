{
 "cells": [
  {
   "cell_type": "code",
   "execution_count": 6,
   "metadata": {},
   "outputs": [],
   "source": [
    "import pandas as pd\n",
    "import requests\n",
    "import json\n",
    "from bs4 import BeautifulSoup"
   ]
  },
  {
   "cell_type": "code",
   "execution_count": 7,
   "metadata": {},
   "outputs": [],
   "source": [
    "def scrap_res(res):\n",
    "    for el in res:\n",
    "        house = {}\n",
    "        div = list(el.children)[3]\n",
    "#         print(\"*\"*30)\n",
    "#         print(div.get_text().strip().replace(\"  \", \" \"))\n",
    "#         print(\"-\"*30)\n",
    "#         print(\"Price:\", list(el.children)[1].find_all(\"span\", {\"class\": \"item-box-price\"})[0].get_text()[:-3])\n",
    "        house['price']=list(el.children)[1].find_all(\"span\", {\"class\": \"item-box-price\"})[0].get_text()[:-3]\n",
    "#         print(\"Title:\", div.a.get_text().strip())\n",
    "        house['title']=div.a.get_text().strip()\n",
    "#         print(\"Address:\", div.p.get_text().strip())\n",
    "        full_address = div.p.get_text().strip()\n",
    "        house['address']=\"\".join(full_address.split(',')[:-1])\n",
    "        house['gov']=str(full_address.split(',')[-1])\n",
    "        for e in list(div.find_all(\"span\", {\"class\":\"block-opt-2\"})):\n",
    "            if e.get_text().strip().split()[-1] == \"Chambres\": house['rooms']=e.get_text().strip().split()[0] #print(\"Chambres\",e.get_text().strip().split()[0])\n",
    "            if e.get_text().strip().split()[-1] == \"bain\": house['bathrooms']=e.get_text().strip().split()[0] #print(\"Salles de bain\",e.get_text().strip().split()[0])\n",
    "            if e.get_text().strip().split()[-1] == \"(Totale)\": house['total_rooms']=e.get_text().strip().split()[0] #print(\"Pièces\",e.get_text().strip().split()[0])\n",
    "    #         print(\"DIV:%%%%%%\",e.get_text())\n",
    "        for e in list(div.find_all(\"span\", {\"class\":\"block-opt-1\"})):\n",
    "            if e.get_text().strip().split()[-1] == \"habitable\": house['living_area']=e.get_text().strip().split()[0][:-2] #print(\"Surf habitable\",e.get_text().strip().split()[0])\n",
    "            if e.get_text().strip().split()[-1] == \"terrain\": house['total_area']=e.get_text().strip().split()[0][:-2] #print(\"Surf terrain\",e.get_text().strip().split()[0])\n",
    "    #         print(\"DIV:$$$$$\",e.get_text())\n",
    "        houses.append(house)\n",
    "        #     print(div)\n"
   ]
  },
  {
   "cell_type": "code",
   "execution_count": 18,
   "metadata": {},
   "outputs": [],
   "source": [
    "houses=[]\n",
    "for i in range(1, 124):\n",
    "    link = \"https://www.menzili.tn/immo/immobilier-tunisie?l=0&page=\" + str(i) + \"&keywords=appartement&tri=1\"\n",
    "    req = requests.get(link)\n",
    "    soup = BeautifulSoup(req.content,'lxml')\n",
    "    res= soup.find_all(\"div\",{\"class\": \"li-item-list\"})\n",
    "    scrap_res(res)\n",
    "    # print(houses)\n",
    "with open('housing_prices_tunisia.json', 'w') as f:  # writing JSON object\n",
    "    json.dump(houses, f)"
   ]
  },
  {
   "cell_type": "code",
   "execution_count": null,
   "metadata": {},
   "outputs": [],
   "source": []
  },
  {
   "cell_type": "code",
   "execution_count": null,
   "metadata": {},
   "outputs": [],
   "source": []
  }
 ],
 "metadata": {
  "kernelspec": {
   "display_name": "Python 3",
   "language": "python",
   "name": "python3"
  },
  "language_info": {
   "codemirror_mode": {
    "name": "ipython",
    "version": 3
   },
   "file_extension": ".py",
   "mimetype": "text/x-python",
   "name": "python",
   "nbconvert_exporter": "python",
   "pygments_lexer": "ipython3",
   "version": "3.6.7"
  }
 },
 "nbformat": 4,
 "nbformat_minor": 2
}
